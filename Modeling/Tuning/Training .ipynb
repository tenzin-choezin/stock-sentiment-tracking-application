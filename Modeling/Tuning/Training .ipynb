{
 "cells": [
  {
   "cell_type": "code",
   "metadata": {
    "tags": [],
    "cell_id": "e5d96299-0fc5-4d1d-afbe-d386591e39df",
    "deepnote_to_be_reexecuted": false,
    "source_hash": "73623649",
    "execution_start": 1650228560806,
    "execution_millis": 1,
    "deepnote_cell_type": "code",
    "deepnote_cell_height": 135
   },
   "source": "#imports \nimport pandas as pd\nimport numpy as np\nimport requests ",
   "execution_count": null,
   "outputs": []
  },
  {
   "cell_type": "code",
   "metadata": {
    "cell_id": "22a5f0afe80e4a46953517825bbc1df8",
    "tags": [],
    "deepnote_to_be_reexecuted": false,
    "source_hash": "f47fedac",
    "execution_start": 1649554053958,
    "execution_millis": 298,
    "deepnote_cell_type": "code",
    "deepnote_cell_height": 154.1875
   },
   "source": "data = pd.read_csv(\"raw_tweets.csv\")\n\ndata.shape",
   "execution_count": null,
   "outputs": [
    {
     "output_type": "execute_result",
     "execution_count": 5,
     "data": {
      "text/plain": "(60364, 12)"
     },
     "metadata": {}
    }
   ]
  },
  {
   "cell_type": "markdown",
   "source": "## New modeling ideas \n* ",
   "metadata": {
    "cell_id": "91ff99a405a74f02af194679baeeec2a",
    "tags": [],
    "deepnote_cell_type": "markdown",
    "deepnote_cell_height": 122.390625
   }
  },
  {
   "cell_type": "code",
   "metadata": {
    "cell_id": "811cf5bf21484b9683ac7978faa9796a",
    "tags": [],
    "deepnote_to_be_reexecuted": false,
    "source_hash": "57aeea69",
    "execution_start": 1649554244489,
    "execution_millis": 8,
    "deepnote_cell_type": "code",
    "deepnote_cell_height": 81
   },
   "source": "high_favs = data[data['favorite_count'] > 1].copy()",
   "execution_count": null,
   "outputs": []
  },
  {
   "cell_type": "code",
   "metadata": {
    "cell_id": "0c3d9874888545b3b8b317eb4bcf5a09",
    "tags": [],
    "deepnote_to_be_reexecuted": false,
    "source_hash": "c02e1307",
    "execution_start": 1649554242928,
    "execution_millis": 16,
    "deepnote_cell_type": "code",
    "deepnote_cell_height": 81
   },
   "source": "low_fav = data[data['favorite_count'] <= 1].copy()",
   "execution_count": null,
   "outputs": []
  },
  {
   "cell_type": "code",
   "metadata": {
    "cell_id": "0bec3bf84f184a55b6f42c932715a07f",
    "tags": [],
    "deepnote_to_be_reexecuted": false,
    "source_hash": "4ac68b25",
    "execution_start": 1649555101685,
    "execution_millis": 18,
    "owner_user_id": "c6e5cdc1-bb74-451b-b7c7-5f8661c67a10",
    "deepnote_cell_type": "code",
    "deepnote_cell_height": 207
   },
   "source": "samples = 5 \nmembers = ['Dennis', 'Chris', 'Tenzin', 'Jennifer', 'Louis']\nfor member in members: \n    title = member + \"_low_favs_sample.csv\"\n    sample = low_fav.sample(50)\n    sample.to_csv(title)\n\n",
   "execution_count": null,
   "outputs": []
  },
  {
   "cell_type": "code",
   "metadata": {
    "cell_id": "8bc3b2a2bfa74cc39a7c2391d0afa2a4",
    "tags": [],
    "deepnote_to_be_reexecuted": false,
    "source_hash": "828d178f",
    "execution_start": 1649554223087,
    "execution_millis": 43,
    "deepnote_cell_type": "code",
    "deepnote_cell_height": 618
   },
   "source": "test = high_favs.sample(100)\ntest",
   "execution_count": null,
   "outputs": [
    {
     "output_type": "execute_result",
     "execution_count": 24,
     "data": {
      "application/vnd.deepnote.dataframe.v3+json": {
       "column_count": 12,
       "row_count": 100,
       "columns": [
        {
         "name": "Unnamed: 0",
         "dtype": "int64",
         "stats": {
          "unique_count": 100,
          "nan_count": 0,
          "min": "17",
          "max": "21432",
          "histogram": [
           {
            "bin_start": 17,
            "bin_end": 2158.5,
            "count": 23
           },
           {
            "bin_start": 2158.5,
            "bin_end": 4300,
            "count": 21
           },
           {
            "bin_start": 4300,
            "bin_end": 6441.5,
            "count": 11
           },
           {
            "bin_start": 6441.5,
            "bin_end": 8583,
            "count": 12
           },
           {
            "bin_start": 8583,
            "bin_end": 10724.5,
            "count": 9
           },
           {
            "bin_start": 10724.5,
            "bin_end": 12866,
            "count": 2
           },
           {
            "bin_start": 12866,
            "bin_end": 15007.5,
            "count": 5
           },
           {
            "bin_start": 15007.5,
            "bin_end": 17149,
            "count": 6
           },
           {
            "bin_start": 17149,
            "bin_end": 19290.5,
            "count": 6
           },
           {
            "bin_start": 19290.5,
            "bin_end": 21432,
            "count": 5
           }
          ]
         }
        },
        {
         "name": "id",
         "dtype": "int64",
         "stats": {
          "unique_count": 100,
          "nan_count": 0,
          "min": "1510062535382343680",
          "max": "1511842842662129669",
          "histogram": [
           {
            "bin_start": 1510062535382343700,
            "bin_end": 1510240566110322200,
            "count": 6
           },
           {
            "bin_start": 1510240566110322200,
            "bin_end": 1510418596838301000,
            "count": 11
           },
           {
            "bin_start": 1510418596838301000,
            "bin_end": 1510596627566279400,
            "count": 7
           },
           {
            "bin_start": 1510596627566279400,
            "bin_end": 1510774658294258200,
            "count": 7
           },
           {
            "bin_start": 1510774658294258200,
            "bin_end": 1510952689022236700,
            "count": 0
           },
           {
            "bin_start": 1510952689022236700,
            "bin_end": 1511130719750215200,
            "count": 0
           },
           {
            "bin_start": 1511130719750215200,
            "bin_end": 1511308750478194000,
            "count": 8
           },
           {
            "bin_start": 1511308750478194000,
            "bin_end": 1511486781206172400,
            "count": 27
           },
           {
            "bin_start": 1511486781206172400,
            "bin_end": 1511664811934151200,
            "count": 8
           },
           {
            "bin_start": 1511664811934151200,
            "bin_end": 1511842842662129700,
            "count": 26
           }
          ]
         }
        },
        {
         "name": "ticker",
         "dtype": "object",
         "stats": {
          "unique_count": 15,
          "nan_count": 0,
          "categories": [
           {
            "name": "$AMC",
            "count": 20
           },
           {
            "name": "$TSLA",
            "count": 19
           },
           {
            "name": "13 others",
            "count": 61
           }
          ]
         }
        },
        {
         "name": "created_at",
         "dtype": "object",
         "stats": {
          "unique_count": 100,
          "nan_count": 0,
          "categories": [
           {
            "name": "Sat Apr 02 23:06:43 +0000 2022",
            "count": 1
           },
           {
            "name": "Tue Apr 05 16:49:54 +0000 2022",
            "count": 1
           },
           {
            "name": "98 others",
            "count": 98
           }
          ]
         }
        },
        {
         "name": "full_text_preprocessed",
         "dtype": "object",
         "stats": {
          "unique_count": 99,
          "nan_count": 0,
          "categories": [
           {
            "name": "twtr",
            "count": 2
           },
           {
            "name": "the latest data from new york state is in on tsla registrations at least in new york based on the data so far they had a good quarter but not as good as q  generally there is no evidence for any need for expanded production capacitysource",
            "count": 1
           },
           {
            "name": "97 others",
            "count": 97
           }
          ]
         }
        },
        {
         "name": "user.verified",
         "dtype": "bool",
         "stats": {
          "unique_count": 2,
          "nan_count": 0,
          "categories": [
           {
            "name": "False",
            "count": 97
           },
           {
            "name": "True",
            "count": 3
           }
          ]
         }
        },
        {
         "name": "favorite_count",
         "dtype": "int64",
         "stats": {
          "unique_count": 30,
          "nan_count": 0,
          "min": "1",
          "max": "608",
          "histogram": [
           {
            "bin_start": 1,
            "bin_end": 61.7,
            "count": 93
           },
           {
            "bin_start": 61.7,
            "bin_end": 122.4,
            "count": 3
           },
           {
            "bin_start": 122.4,
            "bin_end": 183.10000000000002,
            "count": 1
           },
           {
            "bin_start": 183.10000000000002,
            "bin_end": 243.8,
            "count": 1
           },
           {
            "bin_start": 243.8,
            "bin_end": 304.5,
            "count": 0
           },
           {
            "bin_start": 304.5,
            "bin_end": 365.20000000000005,
            "count": 0
           },
           {
            "bin_start": 365.20000000000005,
            "bin_end": 425.90000000000003,
            "count": 1
           },
           {
            "bin_start": 425.90000000000003,
            "bin_end": 486.6,
            "count": 0
           },
           {
            "bin_start": 486.6,
            "bin_end": 547.3000000000001,
            "count": 0
           },
           {
            "bin_start": 547.3000000000001,
            "bin_end": 608,
            "count": 1
           }
          ]
         }
        },
        {
         "name": "retweet_count",
         "dtype": "int64",
         "stats": {
          "unique_count": 10,
          "nan_count": 0,
          "min": "0",
          "max": "38",
          "histogram": [
           {
            "bin_start": 0,
            "bin_end": 3.8,
            "count": 92
           },
           {
            "bin_start": 3.8,
            "bin_end": 7.6,
            "count": 3
           },
           {
            "bin_start": 7.6,
            "bin_end": 11.399999999999999,
            "count": 0
           },
           {
            "bin_start": 11.399999999999999,
            "bin_end": 15.2,
            "count": 1
           },
           {
            "bin_start": 15.2,
            "bin_end": 19,
            "count": 2
           },
           {
            "bin_start": 19,
            "bin_end": 22.799999999999997,
            "count": 1
           },
           {
            "bin_start": 22.799999999999997,
            "bin_end": 26.599999999999998,
            "count": 0
           },
           {
            "bin_start": 26.599999999999998,
            "bin_end": 30.4,
            "count": 0
           },
           {
            "bin_start": 30.4,
            "bin_end": 34.199999999999996,
            "count": 0
           },
           {
            "bin_start": 34.199999999999996,
            "bin_end": 38,
            "count": 1
           }
          ]
         }
        },
        {
         "name": "quality",
         "dtype": "bool",
         "stats": {
          "unique_count": 2,
          "nan_count": 0,
          "categories": [
           {
            "name": "False",
            "count": 92
           },
           {
            "name": "True",
            "count": 8
           }
          ]
         }
        },
        {
         "name": "entities.symbols",
         "dtype": "object",
         "stats": {
          "unique_count": 71,
          "nan_count": 0,
          "categories": [
           {
            "name": "[{'text': 'AMC', 'indices': [0, 4]}]",
            "count": 10
           },
           {
            "name": "[{'text': 'SPY', 'indices': [0, 4]}]",
            "count": 7
           },
           {
            "name": "69 others",
            "count": 83
           }
          ]
         }
        },
        {
         "name": "num_cashtags",
         "dtype": "int64",
         "stats": {
          "unique_count": 1,
          "nan_count": 0,
          "min": "1",
          "max": "1",
          "histogram": [
           {
            "bin_start": 0.5,
            "bin_end": 0.6,
            "count": 0
           },
           {
            "bin_start": 0.6,
            "bin_end": 0.7,
            "count": 0
           },
           {
            "bin_start": 0.7,
            "bin_end": 0.8,
            "count": 0
           },
           {
            "bin_start": 0.8,
            "bin_end": 0.9,
            "count": 0
           },
           {
            "bin_start": 0.9,
            "bin_end": 1,
            "count": 0
           },
           {
            "bin_start": 1,
            "bin_end": 1.1,
            "count": 100
           },
           {
            "bin_start": 1.1,
            "bin_end": 1.2000000000000002,
            "count": 0
           },
           {
            "bin_start": 1.2000000000000002,
            "bin_end": 1.3,
            "count": 0
           },
           {
            "bin_start": 1.3,
            "bin_end": 1.4,
            "count": 0
           },
           {
            "bin_start": 1.4,
            "bin_end": 1.5,
            "count": 0
           }
          ]
         }
        },
        {
         "name": "query_params",
         "dtype": "object",
         "stats": {
          "unique_count": 41,
          "nan_count": 0,
          "categories": [
           {
            "name": "query:$TWTR -$GME -$TSLA -$AMC -$SPY -$HMHC -$DWAC -$AMD -$SST -$AAPL -$AMZN -$NVDA -$TLRY -$NFLX -$QQQ -$PLTR -$FB -$BABA -$VIX -$SOFI -$TEAM -$RBLX -$RSX -$WISH -$OSU -filter:retweets since_id:1511131501156577280 until_date:2022-04-06 max_tweets:10000",
            "count": 12
           },
           {
            "name": "query:$AMC -$GME -$TSLA -$TWTR -$SPY -$HMHC -$DWAC -$AMD -$SST -$AAPL -$AMZN -$NVDA -$TLRY -$NFLX -$QQQ -$PLTR -$FB -$BABA -$VIX -$SOFI -$TEAM -$RBLX -$RSX -$WISH -$OSU -filter:retweets since_id:1511493889013727239 until_date:2022-04-07 max_tweets:10000",
            "count": 7
           },
           {
            "name": "39 others",
            "count": 81
           }
          ]
         }
        },
        {
         "name": "_deepnote_index_column",
         "dtype": "int64"
        }
       ],
       "rows": [
        {
         "Unnamed: 0": 485,
         "id": 1510393318185713700,
         "ticker": "$TSLA",
         "created_at": "Sat Apr 02 23:06:43 +0000 2022",
         "full_text_preprocessed": "the latest data from new york state is in on tsla registrations at least in new york based on the data so far they had a good quarter but not as good as q  generally there is no evidence for any need for expanded production capacitysource",
         "user.verified": false,
         "favorite_count": 15,
         "retweet_count": 0,
         "quality": false,
         "entities.symbols": "[{'text': 'TSLA', 'indices': [45, 50]}]",
         "num_cashtags": 1,
         "query_params": "query:$TSLA -$GME -$TWTR -$AMC -$SPY -$HMHC -$DWAC -$AMD -$SST -$AAPL -$AMZN -$NVDA -$TLRY -$NFLX -$QQQ -$PLTR -$FB -$BABA -$VIX -$SOFI -$TEAM -$RBLX -$RSX -$WISH -$OSU -filter:retweets since_id:1510044337538805762 until_date:2022-04-03 max_tweets:10000",
         "_deepnote_index_column": 485
        },
        {
         "Unnamed: 0": 10279,
         "id": 1511385651245359000,
         "ticker": "$AMC",
         "created_at": "Tue Apr 05 16:49:54 +0000 2022",
         "full_text_preprocessed": "amc gary where are the ftds you worthless pos",
         "user.verified": false,
         "favorite_count": 1,
         "retweet_count": 0,
         "quality": false,
         "entities.symbols": "[{'text': 'AMC', 'indices': [0, 4]}]",
         "num_cashtags": 1,
         "query_params": "query:$AMC -$GME -$TSLA -$TWTR -$SPY -$HMHC -$DWAC -$AMD -$SST -$AAPL -$AMZN -$NVDA -$TLRY -$NFLX -$QQQ -$PLTR -$FB -$BABA -$VIX -$SOFI -$TEAM -$RBLX -$RSX -$WISH -$OSU -filter:retweets since_id:1511131501156577280 until_date:2022-04-06 max_tweets:10000",
         "_deepnote_index_column": 27913
        },
        {
         "Unnamed: 0": 5021,
         "id": 1510064905180758000,
         "ticker": "$SPY",
         "created_at": "Sat Apr 02 01:21:43 +0000 2022",
         "full_text_preprocessed": "spy glad everything is back to normal for a minute there i thought all the world events were real",
         "user.verified": false,
         "favorite_count": 1,
         "retweet_count": 0,
         "quality": false,
         "entities.symbols": "[{'text': 'SPY', 'indices': [0, 4]}]",
         "num_cashtags": 1,
         "query_params": "query:$SPY -$GME -$TSLA -$TWTR -$AMC -$HMHC -$DWAC -$AMD -$SST -$AAPL -$AMZN -$NVDA -$TLRY -$NFLX -$QQQ -$PLTR -$FB -$BABA -$VIX -$SOFI -$TEAM -$RBLX -$RSX -$WISH -$OSU -filter:retweets since_id:1510044337538805762 until_date:2022-04-03 max_tweets:10000",
         "_deepnote_index_column": 16121
        },
        {
         "Unnamed: 0": 19039,
         "id": 1511797184928309200,
         "ticker": "$FB",
         "created_at": "Wed Apr 06 20:05:11 +0000 2022",
         "full_text_preprocessed": "meta exploring virtual currency for metaverse financial times fb",
         "user.verified": false,
         "favorite_count": 7,
         "retweet_count": 1,
         "quality": false,
         "entities.symbols": "[{'text': 'FB', 'indices': [63, 66]}]",
         "num_cashtags": 1,
         "query_params": "query:$FB -$GME -$TSLA -$TWTR -$AMC -$SPY -$HMHC -$DWAC -$AMD -$SST -$AAPL -$AMZN -$NVDA -$TLRY -$NFLX -$QQQ -$PLTR -$BABA -$VIX -$SOFI -$TEAM -$RBLX -$RSX -$WISH -$OSU -filter:retweets since_id:1511493889013727239 until_date:2022-04-07 max_tweets:10000",
         "_deepnote_index_column": 59050
        },
        {
         "Unnamed: 0": 903,
         "id": 1510632878706733000,
         "ticker": "$TSLA",
         "created_at": "Sun Apr 03 14:58:39 +0000 2022",
         "full_text_preprocessed": " customer service tesla reliability quality amp customer service have fallen to industry lows since the intro of the model  interestingly that coincides w musks stockbased pay package amp unprecedented trading activity in tsla stock amp options all signs of a fraudulent co",
         "user.verified": false,
         "favorite_count": 1,
         "retweet_count": 0,
         "quality": false,
         "entities.symbols": "[{'text': 'TSLA', 'indices': [285, 290]}]",
         "num_cashtags": 1,
         "query_params": "query:$TSLA -$GME -$TWTR -$AMC -$SPY -$HMHC -$DWAC -$AMD -$SST -$AAPL -$AMZN -$NVDA -$TLRY -$NFLX -$QQQ -$PLTR -$FB -$BABA -$VIX -$SOFI -$TEAM -$RBLX -$RSX -$WISH -$OSU -filter:retweets since_id:1510406725421072388 until_date:2022-04-04 max_tweets:10000",
         "_deepnote_index_column": 7445
        },
        {
         "Unnamed: 0": 2522,
         "id": 1510438947259920400,
         "ticker": "$AMC",
         "created_at": "Sun Apr 03 02:08:02 +0000 2022",
         "full_text_preprocessed": "amc we break if they dont stop it you know what i mean not financial advice",
         "user.verified": false,
         "favorite_count": 2,
         "retweet_count": 0,
         "quality": false,
         "entities.symbols": "[{'text': 'AMC', 'indices': [0, 4]}]",
         "num_cashtags": 1,
         "query_params": "query:$AMC -$GME -$TSLA -$TWTR -$SPY -$HMHC -$DWAC -$AMD -$SST -$AAPL -$AMZN -$NVDA -$TLRY -$NFLX -$QQQ -$PLTR -$FB -$BABA -$VIX -$SOFI -$TEAM -$RBLX -$RSX -$WISH -$OSU -filter:retweets since_id:1510406725421072388 until_date:2022-04-04 max_tweets:10000",
         "_deepnote_index_column": 9064
        },
        {
         "Unnamed: 0": 7576,
         "id": 1511659865218994200,
         "ticker": "$AMC",
         "created_at": "Wed Apr 06 10:59:31 +0000 2022",
         "full_text_preprocessed": "im not giving up on amc",
         "user.verified": false,
         "favorite_count": 608,
         "retweet_count": 38,
         "quality": true,
         "entities.symbols": "[{'text': 'AMC', 'indices': [21, 25]}]",
         "num_cashtags": 1,
         "query_params": "query:$AMC -$GME -$TSLA -$TWTR -$SPY -$HMHC -$DWAC -$AMD -$SST -$AAPL -$AMZN -$NVDA -$TLRY -$NFLX -$QQQ -$PLTR -$FB -$BABA -$VIX -$SOFI -$TEAM -$RBLX -$RSX -$WISH -$OSU -filter:retweets since_id:1511493889013727239 until_date:2022-04-07 max_tweets:10000",
         "_deepnote_index_column": 47587
        },
        {
         "Unnamed: 0": 14247,
         "id": 1511832490524168200,
         "ticker": "$SST",
         "created_at": "Wed Apr 06 22:25:28 +0000 2022",
         "full_text_preprocessed": "sst solid idea during pm  scalp not bad ill keep my eye on this one",
         "user.verified": false,
         "favorite_count": 2,
         "retweet_count": 0,
         "quality": false,
         "entities.symbols": "[{'text': 'SST', 'indices': [0, 4]}]",
         "num_cashtags": 1,
         "query_params": "query:$SST -$GME -$TSLA -$TWTR -$AMC -$SPY -$HMHC -$DWAC -$AMD -$AAPL -$AMZN -$NVDA -$TLRY -$NFLX -$QQQ -$PLTR -$FB -$BABA -$VIX -$SOFI -$TEAM -$RBLX -$RSX -$WISH -$OSU -filter:retweets since_id:1511493889013727239 until_date:2022-04-07 max_tweets:10000",
         "_deepnote_index_column": 54258
        },
        {
         "Unnamed: 0": 843,
         "id": 1511820361364500500,
         "ticker": "$TSLA",
         "created_at": "Wed Apr 06 21:37:17 +0000 2022",
         "full_text_preprocessed": "is the cyber rodeo an annual event tsla",
         "user.verified": false,
         "favorite_count": 14,
         "retweet_count": 1,
         "quality": false,
         "entities.symbols": "[{'text': 'TSLA', 'indices': [54, 59]}]",
         "num_cashtags": 1,
         "query_params": "query:$TSLA -$GME -$TWTR -$AMC -$SPY -$HMHC -$DWAC -$AMD -$SST -$AAPL -$AMZN -$NVDA -$TLRY -$NFLX -$QQQ -$PLTR -$FB -$BABA -$VIX -$SOFI -$TEAM -$RBLX -$RSX -$WISH -$OSU -filter:retweets since_id:1511493889013727239 until_date:2022-04-07 max_tweets:10000",
         "_deepnote_index_column": 40854
        },
        {
         "Unnamed: 0": 105,
         "id": 1511790671182667800,
         "ticker": "$GME",
         "created_at": "Wed Apr 06 19:39:18 +0000 2022",
         "full_text_preprocessed": "gme options valuevolume so far today",
         "user.verified": false,
         "favorite_count": 9,
         "retweet_count": 1,
         "quality": false,
         "entities.symbols": "[{'text': 'GME', 'indices': [28, 32]}]",
         "num_cashtags": 1,
         "query_params": "query:$GME -$TSLA -$TWTR -$AMC -$SPY -$HMHC -$DWAC -$AMD -$SST -$AAPL -$AMZN -$NVDA -$TLRY -$NFLX -$QQQ -$PLTR -$FB -$BABA -$VIX -$SOFI -$TEAM -$RBLX -$RSX -$WISH -$OSU -filter:retweets since_id:1511493889013727239 until_date:2022-04-07 max_tweets:10000",
         "_deepnote_index_column": 40116
        }
       ]
      },
      "text/plain": "       Unnamed: 0                   id ticker                      created_at  \\\n485           485  1510393318185713668  $TSLA  Sat Apr 02 23:06:43 +0000 2022   \n27913       10279  1511385651245359105   $AMC  Tue Apr 05 16:49:54 +0000 2022   \n16121        5021  1510064905180758020   $SPY  Sat Apr 02 01:21:43 +0000 2022   \n59050       19039  1511797184928309254    $FB  Wed Apr 06 20:05:11 +0000 2022   \n7445          903  1510632878706733058  $TSLA  Sun Apr 03 14:58:39 +0000 2022   \n...           ...                  ...    ...                             ...   \n56637       16626  1511740497362317312  $TLRY  Wed Apr 06 16:19:56 +0000 2022   \n5524         5524  1510220400818589696  $AAPL  Sat Apr 02 11:39:36 +0000 2022   \n49346        9335  1511788638798970881   $SPY  Wed Apr 06 19:31:13 +0000 2022   \n42400        2389  1511686445127380992  $TSLA  Wed Apr 06 12:45:08 +0000 2022   \n55680       15669  1511565027656060932  $AMZN  Wed Apr 06 04:42:40 +0000 2022   \n\n                                  full_text_preprocessed  user.verified  \\\n485    the latest data from new york state is in on t...          False   \n27913      amc gary where are the ftds you worthless pos          False   \n16121  spy glad everything is back to normal for a mi...          False   \n59050  meta exploring virtual currency for metaverse ...          False   \n7445    customer service tesla reliability quality am...          False   \n...                                                  ...            ...   \n56637                     tlry why arent we trending wtf          False   \n5524         nothing wrong with aapl a top holding since          False   \n49346                      spy eod buying puts weeks out          False   \n42400  tsla stock down about  in the premarket cant h...          False   \n55680  amzn amazon signs multibilliondollar project k...          False   \n\n       favorite_count  retweet_count  quality  \\\n485                15              0    False   \n27913               1              0    False   \n16121               1              0    False   \n59050               7              1    False   \n7445                1              0    False   \n...               ...            ...      ...   \n56637               1              0    False   \n5524                1              0    False   \n49346               1              0    False   \n42400               1              0    False   \n55680               1              0    False   \n\n                                entities.symbols  num_cashtags  \\\n485      [{'text': 'TSLA', 'indices': [45, 50]}]             1   \n27913       [{'text': 'AMC', 'indices': [0, 4]}]             1   \n16121       [{'text': 'SPY', 'indices': [0, 4]}]             1   \n59050      [{'text': 'FB', 'indices': [63, 66]}]             1   \n7445   [{'text': 'TSLA', 'indices': [285, 290]}]             1   \n...                                          ...           ...   \n56637      [{'text': 'TLRY', 'indices': [0, 5]}]             1   \n5524     [{'text': 'AAPL', 'indices': [31, 36]}]             1   \n49346       [{'text': 'SPY', 'indices': [0, 4]}]             1   \n42400      [{'text': 'TSLA', 'indices': [0, 5]}]             1   \n55680      [{'text': 'amzn', 'indices': [0, 5]}]             1   \n\n                                            query_params  \n485    query:$TSLA -$GME -$TWTR -$AMC -$SPY -$HMHC -$...  \n27913  query:$AMC -$GME -$TSLA -$TWTR -$SPY -$HMHC -$...  \n16121  query:$SPY -$GME -$TSLA -$TWTR -$AMC -$HMHC -$...  \n59050  query:$FB -$GME -$TSLA -$TWTR -$AMC -$SPY -$HM...  \n7445   query:$TSLA -$GME -$TWTR -$AMC -$SPY -$HMHC -$...  \n...                                                  ...  \n56637  query:$TLRY -$GME -$TSLA -$TWTR -$AMC -$SPY -$...  \n5524   query:$AAPL -$GME -$TSLA -$TWTR -$AMC -$SPY -$...  \n49346  query:$SPY -$GME -$TSLA -$TWTR -$AMC -$HMHC -$...  \n42400  query:$TSLA -$GME -$TWTR -$AMC -$SPY -$HMHC -$...  \n55680  query:$AMZN -$GME -$TSLA -$TWTR -$AMC -$SPY -$...  \n\n[100 rows x 12 columns]",
      "text/html": "<div>\n<style scoped>\n    .dataframe tbody tr th:only-of-type {\n        vertical-align: middle;\n    }\n\n    .dataframe tbody tr th {\n        vertical-align: top;\n    }\n\n    .dataframe thead th {\n        text-align: right;\n    }\n</style>\n<table border=\"1\" class=\"dataframe\">\n  <thead>\n    <tr style=\"text-align: right;\">\n      <th></th>\n      <th>Unnamed: 0</th>\n      <th>id</th>\n      <th>ticker</th>\n      <th>created_at</th>\n      <th>full_text_preprocessed</th>\n      <th>user.verified</th>\n      <th>favorite_count</th>\n      <th>retweet_count</th>\n      <th>quality</th>\n      <th>entities.symbols</th>\n      <th>num_cashtags</th>\n      <th>query_params</th>\n    </tr>\n  </thead>\n  <tbody>\n    <tr>\n      <th>485</th>\n      <td>485</td>\n      <td>1510393318185713668</td>\n      <td>$TSLA</td>\n      <td>Sat Apr 02 23:06:43 +0000 2022</td>\n      <td>the latest data from new york state is in on t...</td>\n      <td>False</td>\n      <td>15</td>\n      <td>0</td>\n      <td>False</td>\n      <td>[{'text': 'TSLA', 'indices': [45, 50]}]</td>\n      <td>1</td>\n      <td>query:$TSLA -$GME -$TWTR -$AMC -$SPY -$HMHC -$...</td>\n    </tr>\n    <tr>\n      <th>27913</th>\n      <td>10279</td>\n      <td>1511385651245359105</td>\n      <td>$AMC</td>\n      <td>Tue Apr 05 16:49:54 +0000 2022</td>\n      <td>amc gary where are the ftds you worthless pos</td>\n      <td>False</td>\n      <td>1</td>\n      <td>0</td>\n      <td>False</td>\n      <td>[{'text': 'AMC', 'indices': [0, 4]}]</td>\n      <td>1</td>\n      <td>query:$AMC -$GME -$TSLA -$TWTR -$SPY -$HMHC -$...</td>\n    </tr>\n    <tr>\n      <th>16121</th>\n      <td>5021</td>\n      <td>1510064905180758020</td>\n      <td>$SPY</td>\n      <td>Sat Apr 02 01:21:43 +0000 2022</td>\n      <td>spy glad everything is back to normal for a mi...</td>\n      <td>False</td>\n      <td>1</td>\n      <td>0</td>\n      <td>False</td>\n      <td>[{'text': 'SPY', 'indices': [0, 4]}]</td>\n      <td>1</td>\n      <td>query:$SPY -$GME -$TSLA -$TWTR -$AMC -$HMHC -$...</td>\n    </tr>\n    <tr>\n      <th>59050</th>\n      <td>19039</td>\n      <td>1511797184928309254</td>\n      <td>$FB</td>\n      <td>Wed Apr 06 20:05:11 +0000 2022</td>\n      <td>meta exploring virtual currency for metaverse ...</td>\n      <td>False</td>\n      <td>7</td>\n      <td>1</td>\n      <td>False</td>\n      <td>[{'text': 'FB', 'indices': [63, 66]}]</td>\n      <td>1</td>\n      <td>query:$FB -$GME -$TSLA -$TWTR -$AMC -$SPY -$HM...</td>\n    </tr>\n    <tr>\n      <th>7445</th>\n      <td>903</td>\n      <td>1510632878706733058</td>\n      <td>$TSLA</td>\n      <td>Sun Apr 03 14:58:39 +0000 2022</td>\n      <td>customer service tesla reliability quality am...</td>\n      <td>False</td>\n      <td>1</td>\n      <td>0</td>\n      <td>False</td>\n      <td>[{'text': 'TSLA', 'indices': [285, 290]}]</td>\n      <td>1</td>\n      <td>query:$TSLA -$GME -$TWTR -$AMC -$SPY -$HMHC -$...</td>\n    </tr>\n    <tr>\n      <th>...</th>\n      <td>...</td>\n      <td>...</td>\n      <td>...</td>\n      <td>...</td>\n      <td>...</td>\n      <td>...</td>\n      <td>...</td>\n      <td>...</td>\n      <td>...</td>\n      <td>...</td>\n      <td>...</td>\n      <td>...</td>\n    </tr>\n    <tr>\n      <th>56637</th>\n      <td>16626</td>\n      <td>1511740497362317312</td>\n      <td>$TLRY</td>\n      <td>Wed Apr 06 16:19:56 +0000 2022</td>\n      <td>tlry why arent we trending wtf</td>\n      <td>False</td>\n      <td>1</td>\n      <td>0</td>\n      <td>False</td>\n      <td>[{'text': 'TLRY', 'indices': [0, 5]}]</td>\n      <td>1</td>\n      <td>query:$TLRY -$GME -$TSLA -$TWTR -$AMC -$SPY -$...</td>\n    </tr>\n    <tr>\n      <th>5524</th>\n      <td>5524</td>\n      <td>1510220400818589696</td>\n      <td>$AAPL</td>\n      <td>Sat Apr 02 11:39:36 +0000 2022</td>\n      <td>nothing wrong with aapl a top holding since</td>\n      <td>False</td>\n      <td>1</td>\n      <td>0</td>\n      <td>False</td>\n      <td>[{'text': 'AAPL', 'indices': [31, 36]}]</td>\n      <td>1</td>\n      <td>query:$AAPL -$GME -$TSLA -$TWTR -$AMC -$SPY -$...</td>\n    </tr>\n    <tr>\n      <th>49346</th>\n      <td>9335</td>\n      <td>1511788638798970881</td>\n      <td>$SPY</td>\n      <td>Wed Apr 06 19:31:13 +0000 2022</td>\n      <td>spy eod buying puts weeks out</td>\n      <td>False</td>\n      <td>1</td>\n      <td>0</td>\n      <td>False</td>\n      <td>[{'text': 'SPY', 'indices': [0, 4]}]</td>\n      <td>1</td>\n      <td>query:$SPY -$GME -$TSLA -$TWTR -$AMC -$HMHC -$...</td>\n    </tr>\n    <tr>\n      <th>42400</th>\n      <td>2389</td>\n      <td>1511686445127380992</td>\n      <td>$TSLA</td>\n      <td>Wed Apr 06 12:45:08 +0000 2022</td>\n      <td>tsla stock down about  in the premarket cant h...</td>\n      <td>False</td>\n      <td>1</td>\n      <td>0</td>\n      <td>False</td>\n      <td>[{'text': 'TSLA', 'indices': [0, 5]}]</td>\n      <td>1</td>\n      <td>query:$TSLA -$GME -$TWTR -$AMC -$SPY -$HMHC -$...</td>\n    </tr>\n    <tr>\n      <th>55680</th>\n      <td>15669</td>\n      <td>1511565027656060932</td>\n      <td>$AMZN</td>\n      <td>Wed Apr 06 04:42:40 +0000 2022</td>\n      <td>amzn amazon signs multibilliondollar project k...</td>\n      <td>False</td>\n      <td>1</td>\n      <td>0</td>\n      <td>False</td>\n      <td>[{'text': 'amzn', 'indices': [0, 5]}]</td>\n      <td>1</td>\n      <td>query:$AMZN -$GME -$TSLA -$TWTR -$AMC -$SPY -$...</td>\n    </tr>\n  </tbody>\n</table>\n<p>100 rows × 12 columns</p>\n</div>"
     },
     "metadata": {}
    }
   ]
  },
  {
   "cell_type": "code",
   "metadata": {
    "cell_id": "78d0f1485f584f8997ff50312912ca67",
    "tags": [],
    "deepnote_to_be_reexecuted": false,
    "source_hash": "da38b793",
    "execution_start": 1649554230063,
    "execution_millis": 2,
    "deepnote_cell_type": "code",
    "deepnote_cell_height": 81
   },
   "source": "test1 = low_fav.sample(100)",
   "execution_count": null,
   "outputs": []
  },
  {
   "cell_type": "code",
   "metadata": {
    "cell_id": "f0f360b9dc0844039fa2c964d00f063d",
    "tags": [],
    "deepnote_to_be_reexecuted": false,
    "source_hash": "becb5c44",
    "execution_start": 1649554204907,
    "execution_millis": 47,
    "deepnote_cell_type": "code",
    "deepnote_cell_height": 600
   },
   "source": "test.append(test1)",
   "execution_count": null,
   "outputs": [
    {
     "output_type": "execute_result",
     "execution_count": 22,
     "data": {
      "application/vnd.deepnote.dataframe.v3+json": {
       "column_count": 12,
       "row_count": 200,
       "columns": [
        {
         "name": "Unnamed: 0",
         "dtype": "int64",
         "stats": {
          "unique_count": 200,
          "nan_count": 0,
          "min": "44",
          "max": "22206",
          "histogram": [
           {
            "bin_start": 44,
            "bin_end": 2260.2,
            "count": 47
           },
           {
            "bin_start": 2260.2,
            "bin_end": 4476.4,
            "count": 28
           },
           {
            "bin_start": 4476.4,
            "bin_end": 6692.599999999999,
            "count": 27
           },
           {
            "bin_start": 6692.599999999999,
            "bin_end": 8908.8,
            "count": 15
           },
           {
            "bin_start": 8908.8,
            "bin_end": 11125,
            "count": 10
           },
           {
            "bin_start": 11125,
            "bin_end": 13341.199999999999,
            "count": 14
           },
           {
            "bin_start": 13341.199999999999,
            "bin_end": 15557.399999999998,
            "count": 13
           },
           {
            "bin_start": 15557.399999999998,
            "bin_end": 17773.6,
            "count": 17
           },
           {
            "bin_start": 17773.6,
            "bin_end": 19989.8,
            "count": 11
           },
           {
            "bin_start": 19989.8,
            "bin_end": 22206,
            "count": 18
           }
          ]
         }
        },
        {
         "name": "id",
         "dtype": "int64",
         "stats": {
          "unique_count": 200,
          "nan_count": 0,
          "min": "1510050066408431616",
          "max": "1511851994239369221",
          "histogram": [
           {
            "bin_start": 1510050066408431600,
            "bin_end": 1510230259191525400,
            "count": 17
           },
           {
            "bin_start": 1510230259191525400,
            "bin_end": 1510410451974619100,
            "count": 29
           },
           {
            "bin_start": 1510410451974619100,
            "bin_end": 1510590644757713000,
            "count": 3
           },
           {
            "bin_start": 1510590644757713000,
            "bin_end": 1510770837540806700,
            "count": 8
           },
           {
            "bin_start": 1510770837540806700,
            "bin_end": 1510951030323900400,
            "count": 0
           },
           {
            "bin_start": 1510951030323900400,
            "bin_end": 1511131223106994200,
            "count": 0
           },
           {
            "bin_start": 1511131223106994200,
            "bin_end": 1511311415890088000,
            "count": 20
           },
           {
            "bin_start": 1511311415890088000,
            "bin_end": 1511491608673181700,
            "count": 61
           },
           {
            "bin_start": 1511491608673181700,
            "bin_end": 1511671801456275500,
            "count": 5
           },
           {
            "bin_start": 1511671801456275500,
            "bin_end": 1511851994239369200,
            "count": 57
           }
          ]
         }
        },
        {
         "name": "ticker",
         "dtype": "object",
         "stats": {
          "unique_count": 20,
          "nan_count": 0,
          "categories": [
           {
            "name": "$TSLA",
            "count": 39
           },
           {
            "name": "$SPY",
            "count": 33
           },
           {
            "name": "18 others",
            "count": 128
           }
          ]
         }
        },
        {
         "name": "created_at",
         "dtype": "object",
         "stats": {
          "unique_count": 200,
          "nan_count": 0,
          "categories": [
           {
            "name": "Sat Apr 02 04:16:16 +0000 2022",
            "count": 1
           },
           {
            "name": "Wed Apr 06 13:05:56 +0000 2022",
            "count": 1
           },
           {
            "name": "198 others",
            "count": 198
           }
          ]
         }
        },
        {
         "name": "full_text_preprocessed",
         "dtype": "object",
         "stats": {
          "unique_count": 200,
          "nan_count": 0,
          "categories": [
           {
            "name": "amc gary can you please put out a little tutorial from the sec saying how the below can be explained without their being massive fraud ongoing and this has been ongoing for over months now over  short volume every day please explain gary",
            "count": 1
           },
           {
            "name": "manitoba harvest enters exclusive partnership with whole foods market tlry",
            "count": 1
           },
           {
            "name": "198 others",
            "count": 198
           }
          ]
         }
        },
        {
         "name": "user.verified",
         "dtype": "bool",
         "stats": {
          "unique_count": 2,
          "nan_count": 0,
          "categories": [
           {
            "name": "False",
            "count": 198
           },
           {
            "name": "True",
            "count": 2
           }
          ]
         }
        },
        {
         "name": "favorite_count",
         "dtype": "int64",
         "stats": {
          "unique_count": 37,
          "nan_count": 0,
          "min": "0",
          "max": "1293",
          "histogram": [
           {
            "bin_start": 0,
            "bin_end": 129.3,
            "count": 191
           },
           {
            "bin_start": 129.3,
            "bin_end": 258.6,
            "count": 3
           },
           {
            "bin_start": 258.6,
            "bin_end": 387.90000000000003,
            "count": 1
           },
           {
            "bin_start": 387.90000000000003,
            "bin_end": 517.2,
            "count": 0
           },
           {
            "bin_start": 517.2,
            "bin_end": 646.5,
            "count": 1
           },
           {
            "bin_start": 646.5,
            "bin_end": 775.8000000000001,
            "count": 0
           },
           {
            "bin_start": 775.8000000000001,
            "bin_end": 905.1000000000001,
            "count": 2
           },
           {
            "bin_start": 905.1000000000001,
            "bin_end": 1034.4,
            "count": 1
           },
           {
            "bin_start": 1034.4,
            "bin_end": 1163.7,
            "count": 0
           },
           {
            "bin_start": 1163.7,
            "bin_end": 1293,
            "count": 1
           }
          ]
         }
        },
        {
         "name": "retweet_count",
         "dtype": "int64",
         "stats": {
          "unique_count": 16,
          "nan_count": 0,
          "min": "0",
          "max": "86",
          "histogram": [
           {
            "bin_start": 0,
            "bin_end": 8.6,
            "count": 190
           },
           {
            "bin_start": 8.6,
            "bin_end": 17.2,
            "count": 3
           },
           {
            "bin_start": 17.2,
            "bin_end": 25.799999999999997,
            "count": 1
           },
           {
            "bin_start": 25.799999999999997,
            "bin_end": 34.4,
            "count": 0
           },
           {
            "bin_start": 34.4,
            "bin_end": 43,
            "count": 1
           },
           {
            "bin_start": 43,
            "bin_end": 51.599999999999994,
            "count": 0
           },
           {
            "bin_start": 51.599999999999994,
            "bin_end": 60.199999999999996,
            "count": 0
           },
           {
            "bin_start": 60.199999999999996,
            "bin_end": 68.8,
            "count": 1
           },
           {
            "bin_start": 68.8,
            "bin_end": 77.39999999999999,
            "count": 2
           },
           {
            "bin_start": 77.39999999999999,
            "bin_end": 86,
            "count": 2
           }
          ]
         }
        },
        {
         "name": "quality",
         "dtype": "bool",
         "stats": {
          "unique_count": 2,
          "nan_count": 0,
          "categories": [
           {
            "name": "False",
            "count": 187
           },
           {
            "name": "True",
            "count": 13
           }
          ]
         }
        },
        {
         "name": "entities.symbols",
         "dtype": "object",
         "stats": {
          "unique_count": 117,
          "nan_count": 0,
          "categories": [
           {
            "name": "[{'text': 'SPY', 'indices': [0, 4]}]",
            "count": 25
           },
           {
            "name": "[{'text': 'TSLA', 'indices': [0, 5]}]",
            "count": 12
           },
           {
            "name": "115 others",
            "count": 163
           }
          ]
         }
        },
        {
         "name": "num_cashtags",
         "dtype": "int64",
         "stats": {
          "unique_count": 1,
          "nan_count": 0,
          "min": "1",
          "max": "1",
          "histogram": [
           {
            "bin_start": 0.5,
            "bin_end": 0.6,
            "count": 0
           },
           {
            "bin_start": 0.6,
            "bin_end": 0.7,
            "count": 0
           },
           {
            "bin_start": 0.7,
            "bin_end": 0.8,
            "count": 0
           },
           {
            "bin_start": 0.8,
            "bin_end": 0.9,
            "count": 0
           },
           {
            "bin_start": 0.9,
            "bin_end": 1,
            "count": 0
           },
           {
            "bin_start": 1,
            "bin_end": 1.1,
            "count": 200
           },
           {
            "bin_start": 1.1,
            "bin_end": 1.2000000000000002,
            "count": 0
           },
           {
            "bin_start": 1.2000000000000002,
            "bin_end": 1.3,
            "count": 0
           },
           {
            "bin_start": 1.3,
            "bin_end": 1.4,
            "count": 0
           },
           {
            "bin_start": 1.4,
            "bin_end": 1.5,
            "count": 0
           }
          ]
         }
        },
        {
         "name": "query_params",
         "dtype": "object",
         "stats": {
          "unique_count": 51,
          "nan_count": 0,
          "categories": [
           {
            "name": "query:$TWTR -$GME -$TSLA -$AMC -$SPY -$HMHC -$DWAC -$AMD -$SST -$AAPL -$AMZN -$NVDA -$TLRY -$NFLX -$QQQ -$PLTR -$FB -$BABA -$VIX -$SOFI -$TEAM -$RBLX -$RSX -$WISH -$OSU -filter:retweets since_id:1511131501156577280 until_date:2022-04-06 max_tweets:10000",
            "count": 20
           },
           {
            "name": "query:$TSLA -$GME -$TWTR -$AMC -$SPY -$HMHC -$DWAC -$AMD -$SST -$AAPL -$AMZN -$NVDA -$TLRY -$NFLX -$QQQ -$PLTR -$FB -$BABA -$VIX -$SOFI -$TEAM -$RBLX -$RSX -$WISH -$OSU -filter:retweets since_id:1510044337538805762 until_date:2022-04-03 max_tweets:10000",
            "count": 16
           },
           {
            "name": "49 others",
            "count": 164
           }
          ]
         }
        },
        {
         "name": "_deepnote_index_column",
         "dtype": "int64"
        }
       ],
       "rows": [
        {
         "Unnamed: 0": 3740,
         "id": 1510108831535218700,
         "ticker": "$AMC",
         "created_at": "Sat Apr 02 04:16:16 +0000 2022",
         "full_text_preprocessed": "amc gary can you please put out a little tutorial from the sec saying how the below can be explained without their being massive fraud ongoing and this has been ongoing for over months now over  short volume every day please explain gary",
         "user.verified": false,
         "favorite_count": 5,
         "retweet_count": 0,
         "quality": false,
         "entities.symbols": "[{'text': 'amc', 'indices': [13, 17]}]",
         "num_cashtags": 1,
         "query_params": "query:$AMC -$GME -$TSLA -$TWTR -$SPY -$HMHC -$DWAC -$AMD -$SST -$AAPL -$AMZN -$NVDA -$TLRY -$NFLX -$QQQ -$PLTR -$FB -$BABA -$VIX -$SOFI -$TEAM -$RBLX -$RSX -$WISH -$OSU -filter:retweets since_id:1510044337538805762 until_date:2022-04-03 max_tweets:10000",
         "_deepnote_index_column": 3740
        },
        {
         "Unnamed: 0": 17138,
         "id": 1511691675768340500,
         "ticker": "$TLRY",
         "created_at": "Wed Apr 06 13:05:56 +0000 2022",
         "full_text_preprocessed": "manitoba harvest enters exclusive partnership with whole foods market tlry",
         "user.verified": false,
         "favorite_count": 8,
         "retweet_count": 3,
         "quality": false,
         "entities.symbols": "[{'text': 'TLRY', 'indices': [70, 75]}]",
         "num_cashtags": 1,
         "query_params": "query:$TLRY -$GME -$TSLA -$TWTR -$AMC -$SPY -$HMHC -$DWAC -$AMD -$SST -$AAPL -$AMZN -$NVDA -$NFLX -$QQQ -$PLTR -$FB -$BABA -$VIX -$SOFI -$TEAM -$RBLX -$RSX -$WISH -$OSU -filter:retweets since_id:1511493889013727239 until_date:2022-04-07 max_tweets:10000",
         "_deepnote_index_column": 57149
        },
        {
         "Unnamed: 0": 7883,
         "id": 1511234103051534300,
         "ticker": "$TWTR",
         "created_at": "Tue Apr 05 06:47:42 +0000 2022",
         "full_text_preprocessed": "q will be a very tough marketwhat most of you lack in order to survive is experience and his guests brought decades of experience and mistakes on twtr spaces freely availableconsider a donation in return",
         "user.verified": false,
         "favorite_count": 37,
         "retweet_count": 3,
         "quality": false,
         "entities.symbols": "[{'text': 'TWTR', 'indices': [171, 176]}]",
         "num_cashtags": 1,
         "query_params": "query:$TWTR -$GME -$TSLA -$AMC -$SPY -$HMHC -$DWAC -$AMD -$SST -$AAPL -$AMZN -$NVDA -$TLRY -$NFLX -$QQQ -$PLTR -$FB -$BABA -$VIX -$SOFI -$TEAM -$RBLX -$RSX -$WISH -$OSU -filter:retweets since_id:1511131501156577280 until_date:2022-04-06 max_tweets:10000",
         "_deepnote_index_column": 25517
        },
        {
         "Unnamed: 0": 527,
         "id": 1510388572234338300,
         "ticker": "$TSLA",
         "created_at": "Sat Apr 02 22:47:51 +0000 2022",
         "full_text_preprocessed": "legacy automakers sales are collapsing chips unrelated tsla",
         "user.verified": false,
         "favorite_count": 10,
         "retweet_count": 2,
         "quality": false,
         "entities.symbols": "[{'text': 'TSLA', 'indices': [58, 63]}]",
         "num_cashtags": 1,
         "query_params": "query:$TSLA -$GME -$TWTR -$AMC -$SPY -$HMHC -$DWAC -$AMD -$SST -$AAPL -$AMZN -$NVDA -$TLRY -$NFLX -$QQQ -$PLTR -$FB -$BABA -$VIX -$SOFI -$TEAM -$RBLX -$RSX -$WISH -$OSU -filter:retweets since_id:1510044337538805762 until_date:2022-04-03 max_tweets:10000",
         "_deepnote_index_column": 527
        },
        {
         "Unnamed: 0": 17319,
         "id": 1511349238101430300,
         "ticker": "$SST",
         "created_at": "Tue Apr 05 14:25:12 +0000 2022",
         "full_text_preprocessed": "sst locate button",
         "user.verified": false,
         "favorite_count": 6,
         "retweet_count": 1,
         "quality": false,
         "entities.symbols": "[{'text': 'SST', 'indices': [0, 4]}]",
         "num_cashtags": 1,
         "query_params": "query:$SST -$GME -$TSLA -$TWTR -$AMC -$SPY -$HMHC -$DWAC -$AMD -$AAPL -$AMZN -$NVDA -$TLRY -$NFLX -$QQQ -$PLTR -$FB -$BABA -$VIX -$SOFI -$TEAM -$RBLX -$RSX -$WISH -$OSU -filter:retweets since_id:1511131501156577280 until_date:2022-04-06 max_tweets:10000",
         "_deepnote_index_column": 34953
        },
        {
         "Unnamed: 0": 1377,
         "id": 1511410889572098000,
         "ticker": "$TSLA",
         "created_at": "Tue Apr 05 18:30:11 +0000 2022",
         "full_text_preprocessed": "tsla oh yeah we gonna slaughter some elon sheep",
         "user.verified": false,
         "favorite_count": 1,
         "retweet_count": 0,
         "quality": false,
         "entities.symbols": "[{'text': 'TSLA', 'indices': [0, 5]}]",
         "num_cashtags": 1,
         "query_params": "query:$TSLA -$GME -$TWTR -$AMC -$SPY -$HMHC -$DWAC -$AMD -$SST -$AAPL -$AMZN -$NVDA -$TLRY -$NFLX -$QQQ -$PLTR -$FB -$BABA -$VIX -$SOFI -$TEAM -$RBLX -$RSX -$WISH -$OSU -filter:retweets since_id:1511131501156577280 until_date:2022-04-06 max_tweets:10000",
         "_deepnote_index_column": 19011
        },
        {
         "Unnamed: 0": 1576,
         "id": 1511389489461022700,
         "ticker": "$TSLA",
         "created_at": "Tue Apr 05 17:05:09 +0000 2022",
         "full_text_preprocessed": "the supply chain crisis has been bullish for tsla while chip shortages etc are a challenge for tesla they have really hit the auto industry in terms of evoverall production",
         "user.verified": true,
         "favorite_count": 8,
         "retweet_count": 0,
         "quality": true,
         "entities.symbols": "[{'text': 'TSLA', 'indices': [45, 50]}]",
         "num_cashtags": 1,
         "query_params": "query:$TSLA -$GME -$TWTR -$AMC -$SPY -$HMHC -$DWAC -$AMD -$SST -$AAPL -$AMZN -$NVDA -$TLRY -$NFLX -$QQQ -$PLTR -$FB -$BABA -$VIX -$SOFI -$TEAM -$RBLX -$RSX -$WISH -$OSU -filter:retweets since_id:1511131501156577280 until_date:2022-04-06 max_tweets:10000",
         "_deepnote_index_column": 19210
        },
        {
         "Unnamed: 0": 15878,
         "id": 1511466412929425400,
         "ticker": "$DWAC",
         "created_at": "Tue Apr 05 22:10:49 +0000 2022",
         "full_text_preprocessed": "dwac chart dailylevels above   levels below ",
         "user.verified": false,
         "favorite_count": 5,
         "retweet_count": 1,
         "quality": false,
         "entities.symbols": "[{'text': 'DWAC', 'indices': [16, 21]}]",
         "num_cashtags": 1,
         "query_params": "query:$DWAC -$GME -$TSLA -$TWTR -$AMC -$SPY -$HMHC -$AMD -$SST -$AAPL -$AMZN -$NVDA -$TLRY -$NFLX -$QQQ -$PLTR -$FB -$BABA -$VIX -$SOFI -$TEAM -$RBLX -$RSX -$WISH -$OSU -filter:retweets since_id:1511131501156577280 until_date:2022-04-06 max_tweets:10000",
         "_deepnote_index_column": 33512
        },
        {
         "Unnamed: 0": 13544,
         "id": 1511397600376860700,
         "ticker": "$SPY",
         "created_at": "Tue Apr 05 17:37:22 +0000 2022",
         "full_text_preprocessed": "why did i exit my longs when spy touched  intraday and retest intraday is king",
         "user.verified": false,
         "favorite_count": 15,
         "retweet_count": 0,
         "quality": false,
         "entities.symbols": "[{'text': 'SPY', 'indices': [29, 33]}]",
         "num_cashtags": 1,
         "query_params": "query:$SPY -$GME -$TSLA -$TWTR -$AMC -$HMHC -$DWAC -$AMD -$SST -$AAPL -$AMZN -$NVDA -$TLRY -$NFLX -$QQQ -$PLTR -$FB -$BABA -$VIX -$SOFI -$TEAM -$RBLX -$RSX -$WISH -$OSU -filter:retweets since_id:1511131501156577280 until_date:2022-04-06 max_tweets:10000",
         "_deepnote_index_column": 31178
        },
        {
         "Unnamed: 0": 212,
         "id": 1511750780684021800,
         "ticker": "$GME",
         "created_at": "Wed Apr 06 17:00:47 +0000 2022",
         "full_text_preprocessed": "i have one share of amc not selling so i can tell everyone i own more shares than the majority of the csuite gme",
         "user.verified": false,
         "favorite_count": 10,
         "retweet_count": 1,
         "quality": false,
         "entities.symbols": "[{'text': 'gme', 'indices': [126, 130]}]",
         "num_cashtags": 1,
         "query_params": "query:$GME -$TSLA -$TWTR -$AMC -$SPY -$HMHC -$DWAC -$AMD -$SST -$AAPL -$AMZN -$NVDA -$TLRY -$NFLX -$QQQ -$PLTR -$FB -$BABA -$VIX -$SOFI -$TEAM -$RBLX -$RSX -$WISH -$OSU -filter:retweets since_id:1511493889013727239 until_date:2022-04-07 max_tweets:10000",
         "_deepnote_index_column": 40223
        }
       ]
      },
      "text/plain": "       Unnamed: 0                   id ticker                      created_at  \\\n3740         3740  1510108831535218690   $AMC  Sat Apr 02 04:16:16 +0000 2022   \n57149       17138  1511691675768340487  $TLRY  Wed Apr 06 13:05:56 +0000 2022   \n25517        7883  1511234103051534343  $TWTR  Tue Apr 05 06:47:42 +0000 2022   \n527           527  1510388572234338305  $TSLA  Sat Apr 02 22:47:51 +0000 2022   \n34953       17319  1511349238101430272   $SST  Tue Apr 05 14:25:12 +0000 2022   \n...           ...                  ...    ...                             ...   \n37702       20068  1511410490227929091   $QQQ  Tue Apr 05 18:28:36 +0000 2022   \n14048        2948  1510355042053750787   $AMC  Sat Apr 02 20:34:37 +0000 2022   \n53813       13802  1511740387861442573   $AMD  Wed Apr 06 16:19:29 +0000 2022   \n18926        1292  1511421607381995522  $TSLA  Tue Apr 05 19:12:46 +0000 2022   \n21546        3912  1511455243477086208  $TWTR  Tue Apr 05 21:26:26 +0000 2022   \n\n                                  full_text_preprocessed  user.verified  \\\n3740   amc gary can you please put out a little tutor...          False   \n57149  manitoba harvest enters exclusive partnership ...          False   \n25517  q will be a very tough marketwhat most of you ...          False   \n527    legacy automakers sales are collapsing chips u...          False   \n34953                                  sst locate button          False   \n...                                                  ...            ...   \n37702  qqq just die already so you can rise from the ...          False   \n14048         amc god i wish everyone was honest on here          False   \n53813                               amd lets push under           False   \n18926    tsla welp ill just let the chart do the talking          False   \n21546              twtr what kinda retrace are we in for          False   \n\n       favorite_count  retweet_count  quality  \\\n3740                5              0    False   \n57149               8              3    False   \n25517              37              3    False   \n527                10              2    False   \n34953               6              1    False   \n...               ...            ...      ...   \n37702               0              0    False   \n14048               0              0    False   \n53813               0              0    False   \n18926               0              0    False   \n21546               0              0    False   \n\n                                entities.symbols  num_cashtags  \\\n3740      [{'text': 'amc', 'indices': [13, 17]}]             1   \n57149    [{'text': 'TLRY', 'indices': [70, 75]}]             1   \n25517  [{'text': 'TWTR', 'indices': [171, 176]}]             1   \n527      [{'text': 'TSLA', 'indices': [58, 63]}]             1   \n34953       [{'text': 'SST', 'indices': [0, 4]}]             1   \n...                                          ...           ...   \n37702       [{'text': 'QQQ', 'indices': [0, 4]}]             1   \n14048       [{'text': 'AMC', 'indices': [0, 4]}]             1   \n53813       [{'text': 'AMD', 'indices': [0, 4]}]             1   \n18926      [{'text': 'TSLA', 'indices': [0, 5]}]             1   \n21546      [{'text': 'TWTR', 'indices': [0, 5]}]             1   \n\n                                            query_params  \n3740   query:$AMC -$GME -$TSLA -$TWTR -$SPY -$HMHC -$...  \n57149  query:$TLRY -$GME -$TSLA -$TWTR -$AMC -$SPY -$...  \n25517  query:$TWTR -$GME -$TSLA -$AMC -$SPY -$HMHC -$...  \n527    query:$TSLA -$GME -$TWTR -$AMC -$SPY -$HMHC -$...  \n34953  query:$SST -$GME -$TSLA -$TWTR -$AMC -$SPY -$H...  \n...                                                  ...  \n37702  query:$QQQ -$GME -$TSLA -$TWTR -$AMC -$SPY -$H...  \n14048  query:$AMC -$GME -$TSLA -$TWTR -$SPY -$HMHC -$...  \n53813  query:$AMD -$GME -$TSLA -$TWTR -$AMC -$SPY -$H...  \n18926  query:$TSLA -$GME -$TWTR -$AMC -$SPY -$HMHC -$...  \n21546  query:$TWTR -$GME -$TSLA -$AMC -$SPY -$HMHC -$...  \n\n[200 rows x 12 columns]",
      "text/html": "<div>\n<style scoped>\n    .dataframe tbody tr th:only-of-type {\n        vertical-align: middle;\n    }\n\n    .dataframe tbody tr th {\n        vertical-align: top;\n    }\n\n    .dataframe thead th {\n        text-align: right;\n    }\n</style>\n<table border=\"1\" class=\"dataframe\">\n  <thead>\n    <tr style=\"text-align: right;\">\n      <th></th>\n      <th>Unnamed: 0</th>\n      <th>id</th>\n      <th>ticker</th>\n      <th>created_at</th>\n      <th>full_text_preprocessed</th>\n      <th>user.verified</th>\n      <th>favorite_count</th>\n      <th>retweet_count</th>\n      <th>quality</th>\n      <th>entities.symbols</th>\n      <th>num_cashtags</th>\n      <th>query_params</th>\n    </tr>\n  </thead>\n  <tbody>\n    <tr>\n      <th>3740</th>\n      <td>3740</td>\n      <td>1510108831535218690</td>\n      <td>$AMC</td>\n      <td>Sat Apr 02 04:16:16 +0000 2022</td>\n      <td>amc gary can you please put out a little tutor...</td>\n      <td>False</td>\n      <td>5</td>\n      <td>0</td>\n      <td>False</td>\n      <td>[{'text': 'amc', 'indices': [13, 17]}]</td>\n      <td>1</td>\n      <td>query:$AMC -$GME -$TSLA -$TWTR -$SPY -$HMHC -$...</td>\n    </tr>\n    <tr>\n      <th>57149</th>\n      <td>17138</td>\n      <td>1511691675768340487</td>\n      <td>$TLRY</td>\n      <td>Wed Apr 06 13:05:56 +0000 2022</td>\n      <td>manitoba harvest enters exclusive partnership ...</td>\n      <td>False</td>\n      <td>8</td>\n      <td>3</td>\n      <td>False</td>\n      <td>[{'text': 'TLRY', 'indices': [70, 75]}]</td>\n      <td>1</td>\n      <td>query:$TLRY -$GME -$TSLA -$TWTR -$AMC -$SPY -$...</td>\n    </tr>\n    <tr>\n      <th>25517</th>\n      <td>7883</td>\n      <td>1511234103051534343</td>\n      <td>$TWTR</td>\n      <td>Tue Apr 05 06:47:42 +0000 2022</td>\n      <td>q will be a very tough marketwhat most of you ...</td>\n      <td>False</td>\n      <td>37</td>\n      <td>3</td>\n      <td>False</td>\n      <td>[{'text': 'TWTR', 'indices': [171, 176]}]</td>\n      <td>1</td>\n      <td>query:$TWTR -$GME -$TSLA -$AMC -$SPY -$HMHC -$...</td>\n    </tr>\n    <tr>\n      <th>527</th>\n      <td>527</td>\n      <td>1510388572234338305</td>\n      <td>$TSLA</td>\n      <td>Sat Apr 02 22:47:51 +0000 2022</td>\n      <td>legacy automakers sales are collapsing chips u...</td>\n      <td>False</td>\n      <td>10</td>\n      <td>2</td>\n      <td>False</td>\n      <td>[{'text': 'TSLA', 'indices': [58, 63]}]</td>\n      <td>1</td>\n      <td>query:$TSLA -$GME -$TWTR -$AMC -$SPY -$HMHC -$...</td>\n    </tr>\n    <tr>\n      <th>34953</th>\n      <td>17319</td>\n      <td>1511349238101430272</td>\n      <td>$SST</td>\n      <td>Tue Apr 05 14:25:12 +0000 2022</td>\n      <td>sst locate button</td>\n      <td>False</td>\n      <td>6</td>\n      <td>1</td>\n      <td>False</td>\n      <td>[{'text': 'SST', 'indices': [0, 4]}]</td>\n      <td>1</td>\n      <td>query:$SST -$GME -$TSLA -$TWTR -$AMC -$SPY -$H...</td>\n    </tr>\n    <tr>\n      <th>...</th>\n      <td>...</td>\n      <td>...</td>\n      <td>...</td>\n      <td>...</td>\n      <td>...</td>\n      <td>...</td>\n      <td>...</td>\n      <td>...</td>\n      <td>...</td>\n      <td>...</td>\n      <td>...</td>\n      <td>...</td>\n    </tr>\n    <tr>\n      <th>37702</th>\n      <td>20068</td>\n      <td>1511410490227929091</td>\n      <td>$QQQ</td>\n      <td>Tue Apr 05 18:28:36 +0000 2022</td>\n      <td>qqq just die already so you can rise from the ...</td>\n      <td>False</td>\n      <td>0</td>\n      <td>0</td>\n      <td>False</td>\n      <td>[{'text': 'QQQ', 'indices': [0, 4]}]</td>\n      <td>1</td>\n      <td>query:$QQQ -$GME -$TSLA -$TWTR -$AMC -$SPY -$H...</td>\n    </tr>\n    <tr>\n      <th>14048</th>\n      <td>2948</td>\n      <td>1510355042053750787</td>\n      <td>$AMC</td>\n      <td>Sat Apr 02 20:34:37 +0000 2022</td>\n      <td>amc god i wish everyone was honest on here</td>\n      <td>False</td>\n      <td>0</td>\n      <td>0</td>\n      <td>False</td>\n      <td>[{'text': 'AMC', 'indices': [0, 4]}]</td>\n      <td>1</td>\n      <td>query:$AMC -$GME -$TSLA -$TWTR -$SPY -$HMHC -$...</td>\n    </tr>\n    <tr>\n      <th>53813</th>\n      <td>13802</td>\n      <td>1511740387861442573</td>\n      <td>$AMD</td>\n      <td>Wed Apr 06 16:19:29 +0000 2022</td>\n      <td>amd lets push under</td>\n      <td>False</td>\n      <td>0</td>\n      <td>0</td>\n      <td>False</td>\n      <td>[{'text': 'AMD', 'indices': [0, 4]}]</td>\n      <td>1</td>\n      <td>query:$AMD -$GME -$TSLA -$TWTR -$AMC -$SPY -$H...</td>\n    </tr>\n    <tr>\n      <th>18926</th>\n      <td>1292</td>\n      <td>1511421607381995522</td>\n      <td>$TSLA</td>\n      <td>Tue Apr 05 19:12:46 +0000 2022</td>\n      <td>tsla welp ill just let the chart do the talking</td>\n      <td>False</td>\n      <td>0</td>\n      <td>0</td>\n      <td>False</td>\n      <td>[{'text': 'TSLA', 'indices': [0, 5]}]</td>\n      <td>1</td>\n      <td>query:$TSLA -$GME -$TWTR -$AMC -$SPY -$HMHC -$...</td>\n    </tr>\n    <tr>\n      <th>21546</th>\n      <td>3912</td>\n      <td>1511455243477086208</td>\n      <td>$TWTR</td>\n      <td>Tue Apr 05 21:26:26 +0000 2022</td>\n      <td>twtr what kinda retrace are we in for</td>\n      <td>False</td>\n      <td>0</td>\n      <td>0</td>\n      <td>False</td>\n      <td>[{'text': 'TWTR', 'indices': [0, 5]}]</td>\n      <td>1</td>\n      <td>query:$TWTR -$GME -$TSLA -$AMC -$SPY -$HMHC -$...</td>\n    </tr>\n  </tbody>\n</table>\n<p>200 rows × 12 columns</p>\n</div>"
     },
     "metadata": {}
    }
   ]
  },
  {
   "cell_type": "code",
   "metadata": {
    "cell_id": "2a40994839214fca9a5b46cf654fcfcc",
    "tags": [],
    "deepnote_to_be_reexecuted": false,
    "source_hash": "26e96449",
    "execution_start": 1649554251763,
    "execution_millis": 368,
    "deepnote_cell_type": "code",
    "deepnote_cell_height": 118.1875,
    "deepnote_output_heights": [
     21.1875
    ]
   },
   "source": "high_favs.shape",
   "execution_count": null,
   "outputs": [
    {
     "output_type": "execute_result",
     "execution_count": 28,
     "data": {
      "text/plain": "(13781, 12)"
     },
     "metadata": {}
    }
   ]
  },
  {
   "cell_type": "code",
   "metadata": {
    "cell_id": "92051f926975429683bd799bec571695",
    "tags": [],
    "deepnote_to_be_reexecuted": false,
    "source_hash": "2826029d",
    "execution_start": 1649554269823,
    "execution_millis": 2,
    "deepnote_cell_type": "code",
    "deepnote_cell_height": 118.1875,
    "deepnote_output_heights": [
     21.1875
    ]
   },
   "source": "low_fav.shape",
   "execution_count": null,
   "outputs": [
    {
     "output_type": "execute_result",
     "execution_count": 32,
     "data": {
      "text/plain": "(46583, 12)"
     },
     "metadata": {}
    }
   ]
  },
  {
   "cell_type": "code",
   "metadata": {
    "cell_id": "7b018ef2b56d4da09dd1b4929cc66d71",
    "tags": [],
    "deepnote_to_be_reexecuted": false,
    "source_hash": "df510ffd",
    "execution_start": 1650229097318,
    "execution_millis": 2,
    "deepnote_cell_type": "code",
    "deepnote_cell_height": 315
   },
   "source": "df = pd.DataFrame({\n    \"Model 1\": \"neutral\", \n\n    \"Model 1 Score\": [0.69], \n\n    \"Model 2\": \"positive\", \n\n    \"Model 2 Score\": [0.8],\n\n    \"Model 3\": \"positive\", \n\n    \"Model 3 Score\": [0.7]\n\n})",
   "execution_count": null,
   "outputs": []
  },
  {
   "cell_type": "code",
   "metadata": {
    "cell_id": "16047a2335204e5a8376ec2c0253245f",
    "tags": [],
    "deepnote_to_be_reexecuted": false,
    "source_hash": "f804c160",
    "execution_start": 1650229098529,
    "execution_millis": 15,
    "deepnote_cell_type": "code",
    "deepnote_cell_height": 231
   },
   "source": "df",
   "execution_count": null,
   "outputs": [
    {
     "output_type": "execute_result",
     "execution_count": 13,
     "data": {
      "application/vnd.deepnote.dataframe.v3+json": {
       "column_count": 6,
       "row_count": 1,
       "columns": [
        {
         "name": "Model 1",
         "dtype": "object",
         "stats": {
          "unique_count": 1,
          "nan_count": 0,
          "categories": [
           {
            "name": "neutral",
            "count": 1
           }
          ]
         }
        },
        {
         "name": "Model 1 Score",
         "dtype": "float64",
         "stats": {
          "unique_count": 1,
          "nan_count": 0,
          "min": "0.69",
          "max": "0.69",
          "histogram": [
           {
            "bin_start": 0.18999999999999995,
            "bin_end": 0.2899999999999999,
            "count": 0
           },
           {
            "bin_start": 0.2899999999999999,
            "bin_end": 0.38999999999999996,
            "count": 0
           },
           {
            "bin_start": 0.38999999999999996,
            "bin_end": 0.49,
            "count": 0
           },
           {
            "bin_start": 0.49,
            "bin_end": 0.59,
            "count": 0
           },
           {
            "bin_start": 0.59,
            "bin_end": 0.69,
            "count": 0
           },
           {
            "bin_start": 0.69,
            "bin_end": 0.79,
            "count": 1
           },
           {
            "bin_start": 0.79,
            "bin_end": 0.89,
            "count": 0
           },
           {
            "bin_start": 0.89,
            "bin_end": 0.99,
            "count": 0
           },
           {
            "bin_start": 0.99,
            "bin_end": 1.0899999999999999,
            "count": 0
           },
           {
            "bin_start": 1.0899999999999999,
            "bin_end": 1.19,
            "count": 0
           }
          ]
         }
        },
        {
         "name": "Model 2",
         "dtype": "object",
         "stats": {
          "unique_count": 1,
          "nan_count": 0,
          "categories": [
           {
            "name": "positive",
            "count": 1
           }
          ]
         }
        },
        {
         "name": "Model 2 Score",
         "dtype": "float64",
         "stats": {
          "unique_count": 1,
          "nan_count": 0,
          "min": "0.8",
          "max": "0.8",
          "histogram": [
           {
            "bin_start": 0.30000000000000004,
            "bin_end": 0.4,
            "count": 0
           },
           {
            "bin_start": 0.4,
            "bin_end": 0.5,
            "count": 0
           },
           {
            "bin_start": 0.5,
            "bin_end": 0.6000000000000001,
            "count": 0
           },
           {
            "bin_start": 0.6000000000000001,
            "bin_end": 0.7000000000000001,
            "count": 0
           },
           {
            "bin_start": 0.7000000000000001,
            "bin_end": 0.8,
            "count": 0
           },
           {
            "bin_start": 0.8,
            "bin_end": 0.9000000000000001,
            "count": 1
           },
           {
            "bin_start": 0.9000000000000001,
            "bin_end": 1,
            "count": 0
           },
           {
            "bin_start": 1,
            "bin_end": 1.1,
            "count": 0
           },
           {
            "bin_start": 1.1,
            "bin_end": 1.2000000000000002,
            "count": 0
           },
           {
            "bin_start": 1.2000000000000002,
            "bin_end": 1.3,
            "count": 0
           }
          ]
         }
        },
        {
         "name": "Model 3",
         "dtype": "object",
         "stats": {
          "unique_count": 1,
          "nan_count": 0,
          "categories": [
           {
            "name": "positive",
            "count": 1
           }
          ]
         }
        },
        {
         "name": "Model 3 Score",
         "dtype": "float64",
         "stats": {
          "unique_count": 1,
          "nan_count": 0,
          "min": "0.7",
          "max": "0.7",
          "histogram": [
           {
            "bin_start": 0.19999999999999996,
            "bin_end": 0.29999999999999993,
            "count": 0
           },
           {
            "bin_start": 0.29999999999999993,
            "bin_end": 0.39999999999999997,
            "count": 0
           },
           {
            "bin_start": 0.39999999999999997,
            "bin_end": 0.5,
            "count": 0
           },
           {
            "bin_start": 0.5,
            "bin_end": 0.6,
            "count": 0
           },
           {
            "bin_start": 0.6,
            "bin_end": 0.7,
            "count": 0
           },
           {
            "bin_start": 0.7,
            "bin_end": 0.8,
            "count": 1
           },
           {
            "bin_start": 0.8,
            "bin_end": 0.9,
            "count": 0
           },
           {
            "bin_start": 0.9,
            "bin_end": 1,
            "count": 0
           },
           {
            "bin_start": 1,
            "bin_end": 1.1,
            "count": 0
           },
           {
            "bin_start": 1.1,
            "bin_end": 1.2,
            "count": 0
           }
          ]
         }
        },
        {
         "name": "_deepnote_index_column",
         "dtype": "int64"
        }
       ],
       "rows": [
        {
         "Model 1": "neutral",
         "Model 1 Score": 0.69,
         "Model 2": "positive",
         "Model 2 Score": 0.8,
         "Model 3": "positive",
         "Model 3 Score": 0.7,
         "_deepnote_index_column": 0
        }
       ]
      },
      "text/plain": "   Model 1  Model 1 Score   Model 2  Model 2 Score   Model 3  Model 3 Score\n0  neutral           0.69  positive            0.8  positive            0.7",
      "text/html": "<div>\n<style scoped>\n    .dataframe tbody tr th:only-of-type {\n        vertical-align: middle;\n    }\n\n    .dataframe tbody tr th {\n        vertical-align: top;\n    }\n\n    .dataframe thead th {\n        text-align: right;\n    }\n</style>\n<table border=\"1\" class=\"dataframe\">\n  <thead>\n    <tr style=\"text-align: right;\">\n      <th></th>\n      <th>Model 1</th>\n      <th>Model 1 Score</th>\n      <th>Model 2</th>\n      <th>Model 2 Score</th>\n      <th>Model 3</th>\n      <th>Model 3 Score</th>\n    </tr>\n  </thead>\n  <tbody>\n    <tr>\n      <th>0</th>\n      <td>neutral</td>\n      <td>0.69</td>\n      <td>positive</td>\n      <td>0.8</td>\n      <td>positive</td>\n      <td>0.7</td>\n    </tr>\n  </tbody>\n</table>\n</div>"
     },
     "metadata": {}
    }
   ]
  },
  {
   "cell_type": "code",
   "metadata": {
    "cell_id": "c3b33396ba124785ab2d555aeaccf2f9",
    "tags": [],
    "deepnote_cell_type": "code",
    "deepnote_cell_height": 66
   },
   "source": "",
   "execution_count": null,
   "outputs": []
  },
  {
   "cell_type": "markdown",
   "source": "<a style='text-decoration:none;line-height:16px;display:flex;color:#5B5B62;padding:10px;justify-content:end;' href='https://deepnote.com?utm_source=created-in-deepnote-cell&projectId=643f0a0a-e649-4860-b73b-f3561d8b41c9' target=\"_blank\">\n<img alt='Created in deepnote.com' style='display:inline;max-height:16px;margin:0px;margin-right:7.5px;' src='data:image/svg+xml;base64,PD94bWwgdmVyc2lvbj0iMS4wIiBlbmNvZGluZz0iVVRGLTgiPz4KPHN2ZyB3aWR0aD0iODBweCIgaGVpZ2h0PSI4MHB4IiB2aWV3Qm94PSIwIDAgODAgODAiIHZlcnNpb249IjEuMSIgeG1sbnM9Imh0dHA6Ly93d3cudzMub3JnLzIwMDAvc3ZnIiB4bWxuczp4bGluaz0iaHR0cDovL3d3dy53My5vcmcvMTk5OS94bGluayI+CiAgICA8IS0tIEdlbmVyYXRvcjogU2tldGNoIDU0LjEgKDc2NDkwKSAtIGh0dHBzOi8vc2tldGNoYXBwLmNvbSAtLT4KICAgIDx0aXRsZT5Hcm91cCAzPC90aXRsZT4KICAgIDxkZXNjPkNyZWF0ZWQgd2l0aCBTa2V0Y2guPC9kZXNjPgogICAgPGcgaWQ9IkxhbmRpbmciIHN0cm9rZT0ibm9uZSIgc3Ryb2tlLXdpZHRoPSIxIiBmaWxsPSJub25lIiBmaWxsLXJ1bGU9ImV2ZW5vZGQiPgogICAgICAgIDxnIGlkPSJBcnRib2FyZCIgdHJhbnNmb3JtPSJ0cmFuc2xhdGUoLTEyMzUuMDAwMDAwLCAtNzkuMDAwMDAwKSI+CiAgICAgICAgICAgIDxnIGlkPSJHcm91cC0zIiB0cmFuc2Zvcm09InRyYW5zbGF0ZSgxMjM1LjAwMDAwMCwgNzkuMDAwMDAwKSI+CiAgICAgICAgICAgICAgICA8cG9seWdvbiBpZD0iUGF0aC0yMCIgZmlsbD0iIzAyNjVCNCIgcG9pbnRzPSIyLjM3NjIzNzYyIDgwIDM4LjA0NzY2NjcgODAgNTcuODIxNzgyMiA3My44MDU3NTkyIDU3LjgyMTc4MjIgMzIuNzU5MjczOSAzOS4xNDAyMjc4IDMxLjY4MzE2ODMiPjwvcG9seWdvbj4KICAgICAgICAgICAgICAgIDxwYXRoIGQ9Ik0zNS4wMDc3MTgsODAgQzQyLjkwNjIwMDcsNzYuNDU0OTM1OCA0Ny41NjQ5MTY3LDcxLjU0MjI2NzEgNDguOTgzODY2LDY1LjI2MTk5MzkgQzUxLjExMjI4OTksNTUuODQxNTg0MiA0MS42NzcxNzk1LDQ5LjIxMjIyODQgMjUuNjIzOTg0Niw0OS4yMTIyMjg0IEMyNS40ODQ5Mjg5LDQ5LjEyNjg0NDggMjkuODI2MTI5Niw0My4yODM4MjQ4IDM4LjY0NzU4NjksMzEuNjgzMTY4MyBMNzIuODcxMjg3MSwzMi41NTQ0MjUgTDY1LjI4MDk3Myw2Ny42NzYzNDIxIEw1MS4xMTIyODk5LDc3LjM3NjE0NCBMMzUuMDA3NzE4LDgwIFoiIGlkPSJQYXRoLTIyIiBmaWxsPSIjMDAyODY4Ij48L3BhdGg+CiAgICAgICAgICAgICAgICA8cGF0aCBkPSJNMCwzNy43MzA0NDA1IEwyNy4xMTQ1MzcsMC4yNTcxMTE0MzYgQzYyLjM3MTUxMjMsLTEuOTkwNzE3MDEgODAsMTAuNTAwMzkyNyA4MCwzNy43MzA0NDA1IEM4MCw2NC45NjA0ODgyIDY0Ljc3NjUwMzgsNzkuMDUwMzQxNCAzNC4zMjk1MTEzLDgwIEM0Ny4wNTUzNDg5LDc3LjU2NzA4MDggNTMuNDE4MjY3Nyw3MC4zMTM2MTAzIDUzLjQxODI2NzcsNTguMjM5NTg4NSBDNTMuNDE4MjY3Nyw0MC4xMjg1NTU3IDM2LjMwMzk1NDQsMzcuNzMwNDQwNSAyNS4yMjc0MTcsMzcuNzMwNDQwNSBDMTcuODQzMDU4NiwzNy43MzA0NDA1IDkuNDMzOTE5NjYsMzcuNzMwNDQwNSAwLDM3LjczMDQ0MDUgWiIgaWQ9IlBhdGgtMTkiIGZpbGw9IiMzNzkzRUYiPjwvcGF0aD4KICAgICAgICAgICAgPC9nPgogICAgICAgIDwvZz4KICAgIDwvZz4KPC9zdmc+' > </img>\nCreated in <span style='font-weight:600;margin-left:4px;'>Deepnote</span></a>",
   "metadata": {
    "tags": [],
    "created_in_deepnote_cell": true,
    "deepnote_cell_type": "markdown"
   }
  }
 ],
 "nbformat": 4,
 "nbformat_minor": 2,
 "metadata": {
  "orig_nbformat": 2,
  "deepnote": {
   "is_reactive": false
  },
  "deepnote_notebook_id": "439dcaf3-a5ec-482c-8c04-5bdcd6ae07fd",
  "deepnote_execution_queue": []
 }
}